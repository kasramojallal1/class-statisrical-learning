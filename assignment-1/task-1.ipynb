{
  "cells": [
    {
      "attachments": {},
      "cell_type": "markdown",
      "metadata": {},
      "source": [
        "HW1 - Task 1\n",
        "\n",
        "Kasra Mojallal 110124782"
      ]
    },
    {
      "cell_type": "code",
      "execution_count": 1,
      "metadata": {
        "id": "IITRAfsEURn8"
      },
      "outputs": [],
      "source": [
        "import numpy as np\n",
        "import plotly.graph_objects as go\n",
        "from sklearn.linear_model import LinearRegression"
      ]
    },
    {
      "cell_type": "code",
      "execution_count": 2,
      "metadata": {
        "id": "_2OIRJ3eUSYw"
      },
      "outputs": [],
      "source": [
        "# X must have 20 data points and 2 features (as you said in the class)\n",
        "X = np.random.randn(20, 2)\n",
        "\n",
        "# for creating the y we can add some randomness to it as eps\n",
        "eps = np.random.randn(20)\n",
        "\n",
        "# our y can be a random function containing both of our features and our eps\n",
        "y = 2*X[:, 0] + 5*X[:, 1] + eps "
      ]
    },
    {
      "cell_type": "code",
      "execution_count": 3,
      "metadata": {
        "colab": {
          "base_uri": "https://localhost:8080/"
        },
        "id": "ibJWM7GLUpr9",
        "outputId": "5b87a0c6-416c-4038-b0fd-cf1e1b14db2c"
      },
      "outputs": [
        {
          "data": {
            "text/plain": [
              "((20, 2), (20,), (20,))"
            ]
          },
          "execution_count": 3,
          "metadata": {},
          "output_type": "execute_result"
        }
      ],
      "source": [
        "# we get the shapes to get a better understanding of our generated data\n",
        "X.shape, eps.shape, y.shape"
      ]
    },
    {
      "cell_type": "code",
      "execution_count": 4,
      "metadata": {
        "colab": {
          "base_uri": "https://localhost:8080/",
          "height": 75
        },
        "id": "V2QPjXnJUuDm",
        "outputId": "31030080-416e-41d5-bc78-c4f10d7272cc"
      },
      "outputs": [
        {
          "data": {
            "text/html": [
              "<style>#sk-container-id-1 {color: black;background-color: white;}#sk-container-id-1 pre{padding: 0;}#sk-container-id-1 div.sk-toggleable {background-color: white;}#sk-container-id-1 label.sk-toggleable__label {cursor: pointer;display: block;width: 100%;margin-bottom: 0;padding: 0.3em;box-sizing: border-box;text-align: center;}#sk-container-id-1 label.sk-toggleable__label-arrow:before {content: \"▸\";float: left;margin-right: 0.25em;color: #696969;}#sk-container-id-1 label.sk-toggleable__label-arrow:hover:before {color: black;}#sk-container-id-1 div.sk-estimator:hover label.sk-toggleable__label-arrow:before {color: black;}#sk-container-id-1 div.sk-toggleable__content {max-height: 0;max-width: 0;overflow: hidden;text-align: left;background-color: #f0f8ff;}#sk-container-id-1 div.sk-toggleable__content pre {margin: 0.2em;color: black;border-radius: 0.25em;background-color: #f0f8ff;}#sk-container-id-1 input.sk-toggleable__control:checked~div.sk-toggleable__content {max-height: 200px;max-width: 100%;overflow: auto;}#sk-container-id-1 input.sk-toggleable__control:checked~label.sk-toggleable__label-arrow:before {content: \"▾\";}#sk-container-id-1 div.sk-estimator input.sk-toggleable__control:checked~label.sk-toggleable__label {background-color: #d4ebff;}#sk-container-id-1 div.sk-label input.sk-toggleable__control:checked~label.sk-toggleable__label {background-color: #d4ebff;}#sk-container-id-1 input.sk-hidden--visually {border: 0;clip: rect(1px 1px 1px 1px);clip: rect(1px, 1px, 1px, 1px);height: 1px;margin: -1px;overflow: hidden;padding: 0;position: absolute;width: 1px;}#sk-container-id-1 div.sk-estimator {font-family: monospace;background-color: #f0f8ff;border: 1px dotted black;border-radius: 0.25em;box-sizing: border-box;margin-bottom: 0.5em;}#sk-container-id-1 div.sk-estimator:hover {background-color: #d4ebff;}#sk-container-id-1 div.sk-parallel-item::after {content: \"\";width: 100%;border-bottom: 1px solid gray;flex-grow: 1;}#sk-container-id-1 div.sk-label:hover label.sk-toggleable__label {background-color: #d4ebff;}#sk-container-id-1 div.sk-serial::before {content: \"\";position: absolute;border-left: 1px solid gray;box-sizing: border-box;top: 0;bottom: 0;left: 50%;z-index: 0;}#sk-container-id-1 div.sk-serial {display: flex;flex-direction: column;align-items: center;background-color: white;padding-right: 0.2em;padding-left: 0.2em;position: relative;}#sk-container-id-1 div.sk-item {position: relative;z-index: 1;}#sk-container-id-1 div.sk-parallel {display: flex;align-items: stretch;justify-content: center;background-color: white;position: relative;}#sk-container-id-1 div.sk-item::before, #sk-container-id-1 div.sk-parallel-item::before {content: \"\";position: absolute;border-left: 1px solid gray;box-sizing: border-box;top: 0;bottom: 0;left: 50%;z-index: -1;}#sk-container-id-1 div.sk-parallel-item {display: flex;flex-direction: column;z-index: 1;position: relative;background-color: white;}#sk-container-id-1 div.sk-parallel-item:first-child::after {align-self: flex-end;width: 50%;}#sk-container-id-1 div.sk-parallel-item:last-child::after {align-self: flex-start;width: 50%;}#sk-container-id-1 div.sk-parallel-item:only-child::after {width: 0;}#sk-container-id-1 div.sk-dashed-wrapped {border: 1px dashed gray;margin: 0 0.4em 0.5em 0.4em;box-sizing: border-box;padding-bottom: 0.4em;background-color: white;}#sk-container-id-1 div.sk-label label {font-family: monospace;font-weight: bold;display: inline-block;line-height: 1.2em;}#sk-container-id-1 div.sk-label-container {text-align: center;}#sk-container-id-1 div.sk-container {/* jupyter's `normalize.less` sets `[hidden] { display: none; }` but bootstrap.min.css set `[hidden] { display: none !important; }` so we also need the `!important` here to be able to override the default hidden behavior on the sphinx rendered scikit-learn.org. See: https://github.com/scikit-learn/scikit-learn/issues/21755 */display: inline-block !important;position: relative;}#sk-container-id-1 div.sk-text-repr-fallback {display: none;}</style><div id=\"sk-container-id-1\" class=\"sk-top-container\"><div class=\"sk-text-repr-fallback\"><pre>LinearRegression()</pre><b>In a Jupyter environment, please rerun this cell to show the HTML representation or trust the notebook. <br />On GitHub, the HTML representation is unable to render, please try loading this page with nbviewer.org.</b></div><div class=\"sk-container\" hidden><div class=\"sk-item\"><div class=\"sk-estimator sk-toggleable\"><input class=\"sk-toggleable__control sk-hidden--visually\" id=\"sk-estimator-id-1\" type=\"checkbox\" checked><label for=\"sk-estimator-id-1\" class=\"sk-toggleable__label sk-toggleable__label-arrow\">LinearRegression</label><div class=\"sk-toggleable__content\"><pre>LinearRegression()</pre></div></div></div></div></div>"
            ],
            "text/plain": [
              "LinearRegression()"
            ]
          },
          "execution_count": 4,
          "metadata": {},
          "output_type": "execute_result"
        }
      ],
      "source": [
        "# we create a linear regression model using the sk-learn library\n",
        "model = LinearRegression()\n",
        "\n",
        "# we fit the model to our X and y\n",
        "model.fit(X, y)"
      ]
    },
    {
      "cell_type": "code",
      "execution_count": 5,
      "metadata": {
        "colab": {
          "base_uri": "https://localhost:8080/",
          "height": 542
        },
        "id": "vFesZlGndNvZ",
        "outputId": "6e5e1d2b-a577-4e81-f1f8-658d6f4742a6"
      },
      "outputs": [
        {
          "data": {
            "application/vnd.plotly.v1+json": {
              "config": {
                "plotlyServerURL": "https://plot.ly"
              },
              "data": [
                {
                  "mode": "markers",
                  "type": "scatter3d",
                  "x": [
                    1.0861493186895494,
                    0.9687646117405353,
                    -0.647194676499028,
                    -0.8371029579739866,
                    0.7619509631347922,
                    -1.2912532565269832,
                    0.7873594421992061,
                    -1.0976377074590913,
                    1.541068280943117,
                    -0.8181748131851391,
                    -1.3104892364883924,
                    -1.4601373709643115,
                    -1.6357142440676204,
                    -2.2995392973763717,
                    -0.7112556927532443,
                    -0.26179911326507205,
                    -0.3934875385811274,
                    -0.2915327828464318,
                    0.6060311268180465,
                    -0.7013955529639758
                  ],
                  "y": [
                    -0.6261248009076089,
                    1.7195210857070944,
                    0.4775431021176229,
                    1.2957637784524025,
                    2.601536443643408,
                    0.5549697763931365,
                    0.39306152171297404,
                    -1.4106609296993873,
                    -0.24781592355221826,
                    1.5043540959771924,
                    0.815942108144526,
                    -0.6065939116380017,
                    -1.1987744290620845,
                    0.38709483787961607,
                    0.8318980932030704,
                    0.825644037651987,
                    -0.24424257579411257,
                    -1.1430347985078981,
                    -0.15205352947772446,
                    1.9581695463185351
                  ],
                  "z": [
                    -0.8782715692918815,
                    10.630666971225455,
                    0.790813036829445,
                    4.4601697795696795,
                    14.440280637836324,
                    -0.0929040644780097,
                    3.7454010879307384,
                    -9.114343256164124,
                    2.1569516712913193,
                    6.727254658221631,
                    1.1593972080238404,
                    -6.074784785549771,
                    -9.458539945197836,
                    -2.3424997025666743,
                    2.3791565293722403,
                    4.742848987028642,
                    -4.2212514097840055,
                    -7.391247739269584,
                    -0.15293113674756964,
                    8.91094770097688
                  ]
                }
              ],
              "layout": {
                "template": {
                  "data": {
                    "bar": [
                      {
                        "error_x": {
                          "color": "#2a3f5f"
                        },
                        "error_y": {
                          "color": "#2a3f5f"
                        },
                        "marker": {
                          "line": {
                            "color": "#E5ECF6",
                            "width": 0.5
                          },
                          "pattern": {
                            "fillmode": "overlay",
                            "size": 10,
                            "solidity": 0.2
                          }
                        },
                        "type": "bar"
                      }
                    ],
                    "barpolar": [
                      {
                        "marker": {
                          "line": {
                            "color": "#E5ECF6",
                            "width": 0.5
                          },
                          "pattern": {
                            "fillmode": "overlay",
                            "size": 10,
                            "solidity": 0.2
                          }
                        },
                        "type": "barpolar"
                      }
                    ],
                    "carpet": [
                      {
                        "aaxis": {
                          "endlinecolor": "#2a3f5f",
                          "gridcolor": "white",
                          "linecolor": "white",
                          "minorgridcolor": "white",
                          "startlinecolor": "#2a3f5f"
                        },
                        "baxis": {
                          "endlinecolor": "#2a3f5f",
                          "gridcolor": "white",
                          "linecolor": "white",
                          "minorgridcolor": "white",
                          "startlinecolor": "#2a3f5f"
                        },
                        "type": "carpet"
                      }
                    ],
                    "choropleth": [
                      {
                        "colorbar": {
                          "outlinewidth": 0,
                          "ticks": ""
                        },
                        "type": "choropleth"
                      }
                    ],
                    "contour": [
                      {
                        "colorbar": {
                          "outlinewidth": 0,
                          "ticks": ""
                        },
                        "colorscale": [
                          [
                            0,
                            "#0d0887"
                          ],
                          [
                            0.1111111111111111,
                            "#46039f"
                          ],
                          [
                            0.2222222222222222,
                            "#7201a8"
                          ],
                          [
                            0.3333333333333333,
                            "#9c179e"
                          ],
                          [
                            0.4444444444444444,
                            "#bd3786"
                          ],
                          [
                            0.5555555555555556,
                            "#d8576b"
                          ],
                          [
                            0.6666666666666666,
                            "#ed7953"
                          ],
                          [
                            0.7777777777777778,
                            "#fb9f3a"
                          ],
                          [
                            0.8888888888888888,
                            "#fdca26"
                          ],
                          [
                            1,
                            "#f0f921"
                          ]
                        ],
                        "type": "contour"
                      }
                    ],
                    "contourcarpet": [
                      {
                        "colorbar": {
                          "outlinewidth": 0,
                          "ticks": ""
                        },
                        "type": "contourcarpet"
                      }
                    ],
                    "heatmap": [
                      {
                        "colorbar": {
                          "outlinewidth": 0,
                          "ticks": ""
                        },
                        "colorscale": [
                          [
                            0,
                            "#0d0887"
                          ],
                          [
                            0.1111111111111111,
                            "#46039f"
                          ],
                          [
                            0.2222222222222222,
                            "#7201a8"
                          ],
                          [
                            0.3333333333333333,
                            "#9c179e"
                          ],
                          [
                            0.4444444444444444,
                            "#bd3786"
                          ],
                          [
                            0.5555555555555556,
                            "#d8576b"
                          ],
                          [
                            0.6666666666666666,
                            "#ed7953"
                          ],
                          [
                            0.7777777777777778,
                            "#fb9f3a"
                          ],
                          [
                            0.8888888888888888,
                            "#fdca26"
                          ],
                          [
                            1,
                            "#f0f921"
                          ]
                        ],
                        "type": "heatmap"
                      }
                    ],
                    "heatmapgl": [
                      {
                        "colorbar": {
                          "outlinewidth": 0,
                          "ticks": ""
                        },
                        "colorscale": [
                          [
                            0,
                            "#0d0887"
                          ],
                          [
                            0.1111111111111111,
                            "#46039f"
                          ],
                          [
                            0.2222222222222222,
                            "#7201a8"
                          ],
                          [
                            0.3333333333333333,
                            "#9c179e"
                          ],
                          [
                            0.4444444444444444,
                            "#bd3786"
                          ],
                          [
                            0.5555555555555556,
                            "#d8576b"
                          ],
                          [
                            0.6666666666666666,
                            "#ed7953"
                          ],
                          [
                            0.7777777777777778,
                            "#fb9f3a"
                          ],
                          [
                            0.8888888888888888,
                            "#fdca26"
                          ],
                          [
                            1,
                            "#f0f921"
                          ]
                        ],
                        "type": "heatmapgl"
                      }
                    ],
                    "histogram": [
                      {
                        "marker": {
                          "pattern": {
                            "fillmode": "overlay",
                            "size": 10,
                            "solidity": 0.2
                          }
                        },
                        "type": "histogram"
                      }
                    ],
                    "histogram2d": [
                      {
                        "colorbar": {
                          "outlinewidth": 0,
                          "ticks": ""
                        },
                        "colorscale": [
                          [
                            0,
                            "#0d0887"
                          ],
                          [
                            0.1111111111111111,
                            "#46039f"
                          ],
                          [
                            0.2222222222222222,
                            "#7201a8"
                          ],
                          [
                            0.3333333333333333,
                            "#9c179e"
                          ],
                          [
                            0.4444444444444444,
                            "#bd3786"
                          ],
                          [
                            0.5555555555555556,
                            "#d8576b"
                          ],
                          [
                            0.6666666666666666,
                            "#ed7953"
                          ],
                          [
                            0.7777777777777778,
                            "#fb9f3a"
                          ],
                          [
                            0.8888888888888888,
                            "#fdca26"
                          ],
                          [
                            1,
                            "#f0f921"
                          ]
                        ],
                        "type": "histogram2d"
                      }
                    ],
                    "histogram2dcontour": [
                      {
                        "colorbar": {
                          "outlinewidth": 0,
                          "ticks": ""
                        },
                        "colorscale": [
                          [
                            0,
                            "#0d0887"
                          ],
                          [
                            0.1111111111111111,
                            "#46039f"
                          ],
                          [
                            0.2222222222222222,
                            "#7201a8"
                          ],
                          [
                            0.3333333333333333,
                            "#9c179e"
                          ],
                          [
                            0.4444444444444444,
                            "#bd3786"
                          ],
                          [
                            0.5555555555555556,
                            "#d8576b"
                          ],
                          [
                            0.6666666666666666,
                            "#ed7953"
                          ],
                          [
                            0.7777777777777778,
                            "#fb9f3a"
                          ],
                          [
                            0.8888888888888888,
                            "#fdca26"
                          ],
                          [
                            1,
                            "#f0f921"
                          ]
                        ],
                        "type": "histogram2dcontour"
                      }
                    ],
                    "mesh3d": [
                      {
                        "colorbar": {
                          "outlinewidth": 0,
                          "ticks": ""
                        },
                        "type": "mesh3d"
                      }
                    ],
                    "parcoords": [
                      {
                        "line": {
                          "colorbar": {
                            "outlinewidth": 0,
                            "ticks": ""
                          }
                        },
                        "type": "parcoords"
                      }
                    ],
                    "pie": [
                      {
                        "automargin": true,
                        "type": "pie"
                      }
                    ],
                    "scatter": [
                      {
                        "fillpattern": {
                          "fillmode": "overlay",
                          "size": 10,
                          "solidity": 0.2
                        },
                        "type": "scatter"
                      }
                    ],
                    "scatter3d": [
                      {
                        "line": {
                          "colorbar": {
                            "outlinewidth": 0,
                            "ticks": ""
                          }
                        },
                        "marker": {
                          "colorbar": {
                            "outlinewidth": 0,
                            "ticks": ""
                          }
                        },
                        "type": "scatter3d"
                      }
                    ],
                    "scattercarpet": [
                      {
                        "marker": {
                          "colorbar": {
                            "outlinewidth": 0,
                            "ticks": ""
                          }
                        },
                        "type": "scattercarpet"
                      }
                    ],
                    "scattergeo": [
                      {
                        "marker": {
                          "colorbar": {
                            "outlinewidth": 0,
                            "ticks": ""
                          }
                        },
                        "type": "scattergeo"
                      }
                    ],
                    "scattergl": [
                      {
                        "marker": {
                          "colorbar": {
                            "outlinewidth": 0,
                            "ticks": ""
                          }
                        },
                        "type": "scattergl"
                      }
                    ],
                    "scattermapbox": [
                      {
                        "marker": {
                          "colorbar": {
                            "outlinewidth": 0,
                            "ticks": ""
                          }
                        },
                        "type": "scattermapbox"
                      }
                    ],
                    "scatterpolar": [
                      {
                        "marker": {
                          "colorbar": {
                            "outlinewidth": 0,
                            "ticks": ""
                          }
                        },
                        "type": "scatterpolar"
                      }
                    ],
                    "scatterpolargl": [
                      {
                        "marker": {
                          "colorbar": {
                            "outlinewidth": 0,
                            "ticks": ""
                          }
                        },
                        "type": "scatterpolargl"
                      }
                    ],
                    "scatterternary": [
                      {
                        "marker": {
                          "colorbar": {
                            "outlinewidth": 0,
                            "ticks": ""
                          }
                        },
                        "type": "scatterternary"
                      }
                    ],
                    "surface": [
                      {
                        "colorbar": {
                          "outlinewidth": 0,
                          "ticks": ""
                        },
                        "colorscale": [
                          [
                            0,
                            "#0d0887"
                          ],
                          [
                            0.1111111111111111,
                            "#46039f"
                          ],
                          [
                            0.2222222222222222,
                            "#7201a8"
                          ],
                          [
                            0.3333333333333333,
                            "#9c179e"
                          ],
                          [
                            0.4444444444444444,
                            "#bd3786"
                          ],
                          [
                            0.5555555555555556,
                            "#d8576b"
                          ],
                          [
                            0.6666666666666666,
                            "#ed7953"
                          ],
                          [
                            0.7777777777777778,
                            "#fb9f3a"
                          ],
                          [
                            0.8888888888888888,
                            "#fdca26"
                          ],
                          [
                            1,
                            "#f0f921"
                          ]
                        ],
                        "type": "surface"
                      }
                    ],
                    "table": [
                      {
                        "cells": {
                          "fill": {
                            "color": "#EBF0F8"
                          },
                          "line": {
                            "color": "white"
                          }
                        },
                        "header": {
                          "fill": {
                            "color": "#C8D4E3"
                          },
                          "line": {
                            "color": "white"
                          }
                        },
                        "type": "table"
                      }
                    ]
                  },
                  "layout": {
                    "annotationdefaults": {
                      "arrowcolor": "#2a3f5f",
                      "arrowhead": 0,
                      "arrowwidth": 1
                    },
                    "autotypenumbers": "strict",
                    "coloraxis": {
                      "colorbar": {
                        "outlinewidth": 0,
                        "ticks": ""
                      }
                    },
                    "colorscale": {
                      "diverging": [
                        [
                          0,
                          "#8e0152"
                        ],
                        [
                          0.1,
                          "#c51b7d"
                        ],
                        [
                          0.2,
                          "#de77ae"
                        ],
                        [
                          0.3,
                          "#f1b6da"
                        ],
                        [
                          0.4,
                          "#fde0ef"
                        ],
                        [
                          0.5,
                          "#f7f7f7"
                        ],
                        [
                          0.6,
                          "#e6f5d0"
                        ],
                        [
                          0.7,
                          "#b8e186"
                        ],
                        [
                          0.8,
                          "#7fbc41"
                        ],
                        [
                          0.9,
                          "#4d9221"
                        ],
                        [
                          1,
                          "#276419"
                        ]
                      ],
                      "sequential": [
                        [
                          0,
                          "#0d0887"
                        ],
                        [
                          0.1111111111111111,
                          "#46039f"
                        ],
                        [
                          0.2222222222222222,
                          "#7201a8"
                        ],
                        [
                          0.3333333333333333,
                          "#9c179e"
                        ],
                        [
                          0.4444444444444444,
                          "#bd3786"
                        ],
                        [
                          0.5555555555555556,
                          "#d8576b"
                        ],
                        [
                          0.6666666666666666,
                          "#ed7953"
                        ],
                        [
                          0.7777777777777778,
                          "#fb9f3a"
                        ],
                        [
                          0.8888888888888888,
                          "#fdca26"
                        ],
                        [
                          1,
                          "#f0f921"
                        ]
                      ],
                      "sequentialminus": [
                        [
                          0,
                          "#0d0887"
                        ],
                        [
                          0.1111111111111111,
                          "#46039f"
                        ],
                        [
                          0.2222222222222222,
                          "#7201a8"
                        ],
                        [
                          0.3333333333333333,
                          "#9c179e"
                        ],
                        [
                          0.4444444444444444,
                          "#bd3786"
                        ],
                        [
                          0.5555555555555556,
                          "#d8576b"
                        ],
                        [
                          0.6666666666666666,
                          "#ed7953"
                        ],
                        [
                          0.7777777777777778,
                          "#fb9f3a"
                        ],
                        [
                          0.8888888888888888,
                          "#fdca26"
                        ],
                        [
                          1,
                          "#f0f921"
                        ]
                      ]
                    },
                    "colorway": [
                      "#636efa",
                      "#EF553B",
                      "#00cc96",
                      "#ab63fa",
                      "#FFA15A",
                      "#19d3f3",
                      "#FF6692",
                      "#B6E880",
                      "#FF97FF",
                      "#FECB52"
                    ],
                    "font": {
                      "color": "#2a3f5f"
                    },
                    "geo": {
                      "bgcolor": "white",
                      "lakecolor": "white",
                      "landcolor": "#E5ECF6",
                      "showlakes": true,
                      "showland": true,
                      "subunitcolor": "white"
                    },
                    "hoverlabel": {
                      "align": "left"
                    },
                    "hovermode": "closest",
                    "mapbox": {
                      "style": "light"
                    },
                    "paper_bgcolor": "white",
                    "plot_bgcolor": "#E5ECF6",
                    "polar": {
                      "angularaxis": {
                        "gridcolor": "white",
                        "linecolor": "white",
                        "ticks": ""
                      },
                      "bgcolor": "#E5ECF6",
                      "radialaxis": {
                        "gridcolor": "white",
                        "linecolor": "white",
                        "ticks": ""
                      }
                    },
                    "scene": {
                      "xaxis": {
                        "backgroundcolor": "#E5ECF6",
                        "gridcolor": "white",
                        "gridwidth": 2,
                        "linecolor": "white",
                        "showbackground": true,
                        "ticks": "",
                        "zerolinecolor": "white"
                      },
                      "yaxis": {
                        "backgroundcolor": "#E5ECF6",
                        "gridcolor": "white",
                        "gridwidth": 2,
                        "linecolor": "white",
                        "showbackground": true,
                        "ticks": "",
                        "zerolinecolor": "white"
                      },
                      "zaxis": {
                        "backgroundcolor": "#E5ECF6",
                        "gridcolor": "white",
                        "gridwidth": 2,
                        "linecolor": "white",
                        "showbackground": true,
                        "ticks": "",
                        "zerolinecolor": "white"
                      }
                    },
                    "shapedefaults": {
                      "line": {
                        "color": "#2a3f5f"
                      }
                    },
                    "ternary": {
                      "aaxis": {
                        "gridcolor": "white",
                        "linecolor": "white",
                        "ticks": ""
                      },
                      "baxis": {
                        "gridcolor": "white",
                        "linecolor": "white",
                        "ticks": ""
                      },
                      "bgcolor": "#E5ECF6",
                      "caxis": {
                        "gridcolor": "white",
                        "linecolor": "white",
                        "ticks": ""
                      }
                    },
                    "title": {
                      "x": 0.05
                    },
                    "xaxis": {
                      "automargin": true,
                      "gridcolor": "white",
                      "linecolor": "white",
                      "ticks": "",
                      "title": {
                        "standoff": 15
                      },
                      "zerolinecolor": "white",
                      "zerolinewidth": 2
                    },
                    "yaxis": {
                      "automargin": true,
                      "gridcolor": "white",
                      "linecolor": "white",
                      "ticks": "",
                      "title": {
                        "standoff": 15
                      },
                      "zerolinecolor": "white",
                      "zerolinewidth": 2
                    }
                  }
                }
              }
            }
          },
          "metadata": {},
          "output_type": "display_data"
        }
      ],
      "source": [
        "# plotly will be used since it gives us an interactive plot\n",
        "import plotly.express as px\n",
        "\n",
        "fig0 = go.Figure(data=go.Scatter3d(\n",
        "    x=X[:, 0],\n",
        "    y=X[:, 1],\n",
        "    z=y,\n",
        "    mode='markers',\n",
        "))\n",
        "\n",
        "fig0.show()"
      ]
    },
    {
      "cell_type": "code",
      "execution_count": 6,
      "metadata": {
        "colab": {
          "base_uri": "https://localhost:8080/"
        },
        "id": "NxBJI5_IgTCx",
        "outputId": "8714c218-b8be-4179-e631-7e0a87c4dff3"
      },
      "outputs": [
        {
          "data": {
            "text/plain": [
              "array([[ 1.08614932, -0.6261248 ],\n",
              "       [ 0.96876461,  1.71952109],\n",
              "       [-0.64719468,  0.4775431 ],\n",
              "       [-0.83710296,  1.29576378],\n",
              "       [ 0.76195096,  2.60153644],\n",
              "       [-1.29125326,  0.55496978],\n",
              "       [ 0.78735944,  0.39306152],\n",
              "       [-1.09763771, -1.41066093],\n",
              "       [ 1.54106828, -0.24781592],\n",
              "       [-0.81817481,  1.5043541 ],\n",
              "       [-1.31048924,  0.81594211],\n",
              "       [-1.46013737, -0.60659391],\n",
              "       [-1.63571424, -1.19877443],\n",
              "       [-2.2995393 ,  0.38709484],\n",
              "       [-0.71125569,  0.83189809],\n",
              "       [-0.26179911,  0.82564404],\n",
              "       [-0.39348754, -0.24424258],\n",
              "       [-0.29153278, -1.1430348 ],\n",
              "       [ 0.60603113, -0.15205353],\n",
              "       [-0.70139555,  1.95816955]])"
            ]
          },
          "execution_count": 6,
          "metadata": {},
          "output_type": "execute_result"
        }
      ],
      "source": [
        "X"
      ]
    },
    {
      "cell_type": "code",
      "execution_count": 7,
      "metadata": {
        "colab": {
          "base_uri": "https://localhost:8080/"
        },
        "id": "ndCpOMe5gi8l",
        "outputId": "98703588-7f79-4375-9648-ab62b49d2910"
      },
      "outputs": [
        {
          "data": {
            "text/plain": [
              "array([-0.87827157, 10.63066697,  0.79081304,  4.46016978, 14.44028064,\n",
              "       -0.09290406,  3.74540109, -9.11434326,  2.15695167,  6.72725466,\n",
              "        1.15939721, -6.07478479, -9.45853995, -2.3424997 ,  2.37915653,\n",
              "        4.74284899, -4.22125141, -7.39124774, -0.15293114,  8.9109477 ])"
            ]
          },
          "execution_count": 7,
          "metadata": {},
          "output_type": "execute_result"
        }
      ],
      "source": [
        "y"
      ]
    },
    {
      "cell_type": "code",
      "execution_count": 8,
      "metadata": {},
      "outputs": [
        {
          "data": {
            "text/plain": [
              "(-2.2995392973763717, 2.601536443643408)"
            ]
          },
          "execution_count": 8,
          "metadata": {},
          "output_type": "execute_result"
        }
      ],
      "source": [
        "X.min(), X.max()"
      ]
    },
    {
      "cell_type": "code",
      "execution_count": 9,
      "metadata": {},
      "outputs": [],
      "source": [
        "# we get the minimum and maximum of our data so that we can make a better plot of the regression model\n",
        "min = X.min()\n",
        "max = X.max()\n",
        "\n",
        "# we create a range of our inputs so that we could predict the model for all of those points\n",
        "# in this case we create a hyper plane of our prediction model\n",
        "# by adding more numbers the plane would be more accurate but this much is enough\n",
        "x1_range = np.linspace(min, max, 20)\n",
        "x2_range = np.linspace(min, max, 20)\n",
        "x1_grid, x2_grid = np.meshgrid(x1_range, x2_range)\n",
        "\n",
        "# we predict the values for all of the x_range values using our linear regression model\n",
        "y_pred = model.predict(np.column_stack((x1_grid.ravel(), x2_grid.ravel())))\n",
        "y_pred_grid = y_pred.reshape(x1_grid.shape)"
      ]
    },
    {
      "cell_type": "code",
      "execution_count": 10,
      "metadata": {},
      "outputs": [
        {
          "data": {
            "application/vnd.plotly.v1+json": {
              "config": {
                "plotlyServerURL": "https://plot.ly"
              },
              "data": [
                {
                  "mode": "markers",
                  "type": "scatter3d",
                  "x": [
                    1.0861493186895494,
                    0.9687646117405353,
                    -0.647194676499028,
                    -0.8371029579739866,
                    0.7619509631347922,
                    -1.2912532565269832,
                    0.7873594421992061,
                    -1.0976377074590913,
                    1.541068280943117,
                    -0.8181748131851391,
                    -1.3104892364883924,
                    -1.4601373709643115,
                    -1.6357142440676204,
                    -2.2995392973763717,
                    -0.7112556927532443,
                    -0.26179911326507205,
                    -0.3934875385811274,
                    -0.2915327828464318,
                    0.6060311268180465,
                    -0.7013955529639758
                  ],
                  "y": [
                    -0.6261248009076089,
                    1.7195210857070944,
                    0.4775431021176229,
                    1.2957637784524025,
                    2.601536443643408,
                    0.5549697763931365,
                    0.39306152171297404,
                    -1.4106609296993873,
                    -0.24781592355221826,
                    1.5043540959771924,
                    0.815942108144526,
                    -0.6065939116380017,
                    -1.1987744290620845,
                    0.38709483787961607,
                    0.8318980932030704,
                    0.825644037651987,
                    -0.24424257579411257,
                    -1.1430347985078981,
                    -0.15205352947772446,
                    1.9581695463185351
                  ],
                  "z": [
                    -0.8782715692918815,
                    10.630666971225455,
                    0.790813036829445,
                    4.4601697795696795,
                    14.440280637836324,
                    -0.0929040644780097,
                    3.7454010879307384,
                    -9.114343256164124,
                    2.1569516712913193,
                    6.727254658221631,
                    1.1593972080238404,
                    -6.074784785549771,
                    -9.458539945197836,
                    -2.3424997025666743,
                    2.3791565293722403,
                    4.742848987028642,
                    -4.2212514097840055,
                    -7.391247739269584,
                    -0.15293113674756964,
                    8.91094770097688
                  ]
                },
                {
                  "colorscale": [
                    [
                      0,
                      "#440154"
                    ],
                    [
                      0.1111111111111111,
                      "#482878"
                    ],
                    [
                      0.2222222222222222,
                      "#3e4989"
                    ],
                    [
                      0.3333333333333333,
                      "#31688e"
                    ],
                    [
                      0.4444444444444444,
                      "#26828e"
                    ],
                    [
                      0.5555555555555556,
                      "#1f9e89"
                    ],
                    [
                      0.6666666666666666,
                      "#35b779"
                    ],
                    [
                      0.7777777777777778,
                      "#6ece58"
                    ],
                    [
                      0.8888888888888888,
                      "#b5de2b"
                    ],
                    [
                      1,
                      "#fde725"
                    ]
                  ],
                  "opacity": 0.8,
                  "type": "surface",
                  "x": [
                    -2.2995392973763717,
                    -2.041587942585857,
                    -1.7836365877953422,
                    -1.5256852330048276,
                    -1.2677338782143128,
                    -1.009782523423798,
                    -0.7518311686332835,
                    -0.4938798138427687,
                    -0.2359284590522539,
                    0.02202289573826066,
                    0.27997425052877567,
                    0.5379256053192902,
                    0.7958769601098048,
                    1.0538283149003198,
                    1.3117796696908344,
                    1.5697310244813494,
                    1.827682379271864,
                    2.0856337340623785,
                    2.343585088852893,
                    2.601536443643408
                  ],
                  "y": [
                    -2.2995392973763717,
                    -2.041587942585857,
                    -1.7836365877953422,
                    -1.5256852330048276,
                    -1.2677338782143128,
                    -1.009782523423798,
                    -0.7518311686332835,
                    -0.4938798138427687,
                    -0.2359284590522539,
                    0.02202289573826066,
                    0.27997425052877567,
                    0.5379256053192902,
                    0.7958769601098048,
                    1.0538283149003198,
                    1.3117796696908344,
                    1.5697310244813494,
                    1.827682379271864,
                    2.0856337340623785,
                    2.343585088852893,
                    2.601536443643408
                  ],
                  "z": [
                    [
                      -16.752189571401185,
                      -16.239451732768323,
                      -15.726713894135454,
                      -15.21397605550259,
                      -14.701238216869724,
                      -14.18850037823686,
                      -13.675762539603994,
                      -13.16302470097113,
                      -12.650286862338264,
                      -12.1375490237054,
                      -11.624811185072534,
                      -11.11207334643967,
                      -10.599335507806805,
                      -10.08659766917394,
                      -9.573859830541076,
                      -9.06112199190821,
                      -8.548384153275345,
                      -8.03564631464248,
                      -7.522908476009617,
                      -7.010170637376752
                    ],
                    [
                      -15.408077766395126,
                      -14.895339927762262,
                      -14.382602089129396,
                      -13.869864250496532,
                      -13.357126411863666,
                      -12.844388573230802,
                      -12.331650734597936,
                      -11.818912895965072,
                      -11.306175057332206,
                      -10.793437218699342,
                      -10.280699380066476,
                      -9.767961541433612,
                      -9.255223702800746,
                      -8.742485864167882,
                      -8.229748025535018,
                      -7.717010186902153,
                      -7.204272348269288,
                      -6.691534509636424,
                      -6.178796671003559,
                      -5.666058832370694
                    ],
                    [
                      -14.063965961389064,
                      -13.5512281227562,
                      -13.038490284123334,
                      -12.52575244549047,
                      -12.013014606857604,
                      -11.50027676822474,
                      -10.987538929591874,
                      -10.47480109095901,
                      -9.962063252326145,
                      -9.44932541369328,
                      -8.936587575060415,
                      -8.42384973642755,
                      -7.911111897794687,
                      -7.398374059161822,
                      -6.885636220528957,
                      -6.372898381896091,
                      -5.860160543263226,
                      -5.347422704630362,
                      -4.834684865997497,
                      -4.321947027364632
                    ],
                    [
                      -12.719854156383006,
                      -12.207116317750142,
                      -11.694378479117276,
                      -11.181640640484412,
                      -10.668902801851546,
                      -10.156164963218682,
                      -9.643427124585816,
                      -9.130689285952952,
                      -8.617951447320086,
                      -8.105213608687222,
                      -7.5924757700543575,
                      -7.079737931421493,
                      -6.5670000927886285,
                      -6.054262254155764,
                      -5.541524415522899,
                      -5.028786576890033,
                      -4.516048738257168,
                      -4.003310899624304,
                      -3.490573060991439,
                      -2.977835222358574
                    ],
                    [
                      -11.375742351376948,
                      -10.863004512744082,
                      -10.350266674111218,
                      -9.837528835478354,
                      -9.324790996845488,
                      -8.812053158212622,
                      -8.299315319579758,
                      -7.786577480946894,
                      -7.273839642314029,
                      -6.761101803681164,
                      -6.2483639650482985,
                      -5.7356261264154345,
                      -5.2228882877825695,
                      -4.710150449149704,
                      -4.19741261051684,
                      -3.684674771883974,
                      -3.171936933251109,
                      -2.659199094618245,
                      -2.14646125598538,
                      -1.6337234173525148
                    ],
                    [
                      -10.031630546370888,
                      -9.518892707738024,
                      -9.006154869105158,
                      -8.493417030472292,
                      -7.980679191839429,
                      -7.467941353206563,
                      -6.955203514573699,
                      -6.442465675940834,
                      -5.929727837307969,
                      -5.4169899986751044,
                      -4.904252160042239,
                      -4.391514321409375,
                      -3.8787764827765097,
                      -3.366038644143644,
                      -2.85330080551078,
                      -2.340562966877914,
                      -1.8278251282450493,
                      -1.3150872896121848,
                      -0.8023494509793199,
                      -0.28961161234645494
                    ],
                    [
                      -8.68751874136483,
                      -8.174780902731966,
                      -7.662043064099101,
                      -7.149305225466236,
                      -6.636567386833371,
                      -6.123829548200505,
                      -5.611091709567641,
                      -5.098353870934776,
                      -4.585616032301911,
                      -4.072878193669046,
                      -3.5601403550361805,
                      -3.0474025164033165,
                      -2.5346646777704516,
                      -2.0219268391375858,
                      -1.5091890005047215,
                      -0.9964511618718557,
                      -0.4837133232389912,
                      0.029024515393873296,
                      0.5417623540267382,
                      1.0545001926596032
                    ],
                    [
                      -7.343406936358771,
                      -6.830669097725907,
                      -6.317931259093041,
                      -5.805193420460177,
                      -5.292455581827311,
                      -4.779717743194446,
                      -4.266979904561581,
                      -3.7542420659287163,
                      -3.2415042272958514,
                      -2.7287663886629865,
                      -2.2160285500301216,
                      -1.7032907113972566,
                      -1.190552872764392,
                      -0.6778150341315266,
                      -0.16507719549866207,
                      0.34766064313420375,
                      0.8603984817670682,
                      1.3731363203999327,
                      1.8858741590327976,
                      2.398611997665663
                    ],
                    [
                      -5.999295131352712,
                      -5.486557292719847,
                      -4.973819454086981,
                      -4.461081615454117,
                      -3.9483437768212513,
                      -3.4356059381883863,
                      -2.9228680995555223,
                      -2.4101302609226574,
                      -1.8973924222897918,
                      -1.3846545836569273,
                      -0.8719167450240617,
                      -0.3591789063911972,
                      0.1535589322416675,
                      0.6662967708745329,
                      1.1790346095073974,
                      1.6917724481402632,
                      2.204510286773128,
                      2.717248125405992,
                      3.229985964038857,
                      3.7427238026717218
                    ],
                    [
                      -4.655183326346654,
                      -4.142445487713788,
                      -3.629707649080923,
                      -3.116969810448058,
                      -2.604231971815193,
                      -2.0914941331823282,
                      -1.5787562945494633,
                      -1.0660184559165984,
                      -0.5532806172837335,
                      -0.040542778650868805,
                      0.47219505998199673,
                      0.9849328986148613,
                      1.497670737247726,
                      2.010408575880591,
                      2.523146414513456,
                      3.035884253146322,
                      3.548622091779186,
                      4.06135993041205,
                      4.574097769044915,
                      5.08683560767778
                    ],
                    [
                      -3.311071521340593,
                      -2.798333682707728,
                      -2.2855958440748623,
                      -1.7728580054419978,
                      -1.2601201668091324,
                      -0.7473823281762675,
                      -0.23464448954340278,
                      0.27809334908946215,
                      0.7908311877223273,
                      1.3035690263551918,
                      1.8163068649880574,
                      2.329044703620922,
                      2.841782542253786,
                      3.354520380886652,
                      3.867258219519516,
                      4.379996058152382,
                      4.892733896785247,
                      5.405471735418111,
                      5.918209574050976,
                      6.430947412683841
                    ],
                    [
                      -1.9669597163345343,
                      -1.4542218777016693,
                      -0.941484039068804,
                      -0.4287462004359395,
                      0.0839916381969259,
                      0.5967294768297908,
                      1.1094673154626555,
                      1.6222051540955205,
                      2.1349429927283854,
                      2.6476808313612503,
                      3.1604186699941152,
                      3.67315650862698,
                      4.185894347259844,
                      4.69863218589271,
                      5.211370024525574,
                      5.72410786315844,
                      6.236845701791305,
                      6.74958354042417,
                      7.262321379057034,
                      7.7750592176899
                    ],
                    [
                      -0.6228479113284757,
                      -0.1101100726956108,
                      0.4026277659372546,
                      0.9153656045701191,
                      1.4281034432029844,
                      1.9408412818358494,
                      2.4535791204687136,
                      2.9663169591015786,
                      3.4790547977344444,
                      3.9917926363673084,
                      4.504530475000174,
                      5.017268313633038,
                      5.530006152265903,
                      6.042743990898768,
                      6.555481829531633,
                      7.068219668164499,
                      7.580957506797364,
                      8.093695345430229,
                      8.606433184063095,
                      9.119171022695959
                    ],
                    [
                      0.721263893677585,
                      1.23400173231045,
                      1.7467395709433153,
                      2.2594774095761796,
                      2.7722152482090454,
                      3.2849530868419103,
                      3.7976909254747744,
                      4.310428764107639,
                      4.823166602740504,
                      5.335904441373369,
                      5.848642280006235,
                      6.361380118639099,
                      6.874117957271964,
                      7.38685579590483,
                      7.899593634537694,
                      8.41233147317056,
                      8.925069311803425,
                      9.43780715043629,
                      9.950544989069154,
                      10.463282827702018
                    ],
                    [
                      2.065375698683643,
                      2.578113537316508,
                      3.0908513759493736,
                      3.6035892145822377,
                      4.116327053215103,
                      4.629064891847968,
                      5.1418027304808325,
                      5.654540569113697,
                      6.167278407746562,
                      6.680016246379427,
                      7.192754085012293,
                      7.705491923645157,
                      8.218229762278023,
                      8.730967600910889,
                      9.243705439543753,
                      9.756443278176619,
                      10.269181116809483,
                      10.781918955442348,
                      11.294656794075213,
                      11.807394632708077
                    ],
                    [
                      3.4094875036897037,
                      3.9222253423225686,
                      4.434963180955434,
                      4.947701019588298,
                      5.460438858221164,
                      5.973176696854028,
                      6.485914535486893,
                      6.998652374119758,
                      7.511390212752623,
                      8.024128051385489,
                      8.536865890018355,
                      9.049603728651219,
                      9.562341567284085,
                      10.075079405916949,
                      10.587817244549813,
                      11.100555083182678,
                      11.613292921815544,
                      12.126030760448408,
                      12.638768599081272,
                      13.151506437714138
                    ],
                    [
                      4.753599308695762,
                      5.266337147328627,
                      5.7790749859614925,
                      6.2918128245943565,
                      6.804550663227222,
                      7.317288501860086,
                      7.830026340492952,
                      8.342764179125817,
                      8.855502017758683,
                      9.368239856391547,
                      9.880977695024413,
                      10.393715533657277,
                      10.906453372290143,
                      11.419191210923007,
                      11.93192904955587,
                      12.444666888188737,
                      12.957404726821602,
                      13.470142565454466,
                      13.98288040408733,
                      14.495618242720196
                    ],
                    [
                      6.09771111370182,
                      6.610448952334685,
                      7.123186790967551,
                      7.635924629600415,
                      8.148662468233281,
                      8.661400306866145,
                      9.174138145499011,
                      9.686875984131875,
                      10.199613822764741,
                      10.712351661397605,
                      11.225089500030471,
                      11.737827338663335,
                      12.2505651772962,
                      12.763303015929065,
                      13.276040854561929,
                      13.788778693194795,
                      14.30151653182766,
                      14.814254370460525,
                      15.326992209093389,
                      15.839730047726254
                    ],
                    [
                      7.441822918707878,
                      7.954560757340743,
                      8.46729859597361,
                      8.980036434606474,
                      9.49277427323934,
                      10.005512111872203,
                      10.51824995050507,
                      11.030987789137933,
                      11.5437256277708,
                      12.056463466403663,
                      12.569201305036529,
                      13.081939143669393,
                      13.594676982302259,
                      14.107414820935123,
                      14.620152659567987,
                      15.132890498200853,
                      15.645628336833719,
                      16.158366175466583,
                      16.671104014099445,
                      17.18384185273231
                    ],
                    [
                      8.785934723713941,
                      9.298672562346805,
                      9.811410400979671,
                      10.324148239612535,
                      10.836886078245401,
                      11.349623916878265,
                      11.862361755511131,
                      12.375099594143995,
                      12.88783743277686,
                      13.400575271409725,
                      13.91331311004259,
                      14.426050948675455,
                      14.93878878730832,
                      15.451526625941185,
                      15.964264464574049,
                      16.477002303206913,
                      16.98974014183978,
                      17.50247798047264,
                      18.015215819105507,
                      18.527953657738372
                    ]
                  ]
                }
              ],
              "layout": {
                "template": {
                  "data": {
                    "bar": [
                      {
                        "error_x": {
                          "color": "#2a3f5f"
                        },
                        "error_y": {
                          "color": "#2a3f5f"
                        },
                        "marker": {
                          "line": {
                            "color": "#E5ECF6",
                            "width": 0.5
                          },
                          "pattern": {
                            "fillmode": "overlay",
                            "size": 10,
                            "solidity": 0.2
                          }
                        },
                        "type": "bar"
                      }
                    ],
                    "barpolar": [
                      {
                        "marker": {
                          "line": {
                            "color": "#E5ECF6",
                            "width": 0.5
                          },
                          "pattern": {
                            "fillmode": "overlay",
                            "size": 10,
                            "solidity": 0.2
                          }
                        },
                        "type": "barpolar"
                      }
                    ],
                    "carpet": [
                      {
                        "aaxis": {
                          "endlinecolor": "#2a3f5f",
                          "gridcolor": "white",
                          "linecolor": "white",
                          "minorgridcolor": "white",
                          "startlinecolor": "#2a3f5f"
                        },
                        "baxis": {
                          "endlinecolor": "#2a3f5f",
                          "gridcolor": "white",
                          "linecolor": "white",
                          "minorgridcolor": "white",
                          "startlinecolor": "#2a3f5f"
                        },
                        "type": "carpet"
                      }
                    ],
                    "choropleth": [
                      {
                        "colorbar": {
                          "outlinewidth": 0,
                          "ticks": ""
                        },
                        "type": "choropleth"
                      }
                    ],
                    "contour": [
                      {
                        "colorbar": {
                          "outlinewidth": 0,
                          "ticks": ""
                        },
                        "colorscale": [
                          [
                            0,
                            "#0d0887"
                          ],
                          [
                            0.1111111111111111,
                            "#46039f"
                          ],
                          [
                            0.2222222222222222,
                            "#7201a8"
                          ],
                          [
                            0.3333333333333333,
                            "#9c179e"
                          ],
                          [
                            0.4444444444444444,
                            "#bd3786"
                          ],
                          [
                            0.5555555555555556,
                            "#d8576b"
                          ],
                          [
                            0.6666666666666666,
                            "#ed7953"
                          ],
                          [
                            0.7777777777777778,
                            "#fb9f3a"
                          ],
                          [
                            0.8888888888888888,
                            "#fdca26"
                          ],
                          [
                            1,
                            "#f0f921"
                          ]
                        ],
                        "type": "contour"
                      }
                    ],
                    "contourcarpet": [
                      {
                        "colorbar": {
                          "outlinewidth": 0,
                          "ticks": ""
                        },
                        "type": "contourcarpet"
                      }
                    ],
                    "heatmap": [
                      {
                        "colorbar": {
                          "outlinewidth": 0,
                          "ticks": ""
                        },
                        "colorscale": [
                          [
                            0,
                            "#0d0887"
                          ],
                          [
                            0.1111111111111111,
                            "#46039f"
                          ],
                          [
                            0.2222222222222222,
                            "#7201a8"
                          ],
                          [
                            0.3333333333333333,
                            "#9c179e"
                          ],
                          [
                            0.4444444444444444,
                            "#bd3786"
                          ],
                          [
                            0.5555555555555556,
                            "#d8576b"
                          ],
                          [
                            0.6666666666666666,
                            "#ed7953"
                          ],
                          [
                            0.7777777777777778,
                            "#fb9f3a"
                          ],
                          [
                            0.8888888888888888,
                            "#fdca26"
                          ],
                          [
                            1,
                            "#f0f921"
                          ]
                        ],
                        "type": "heatmap"
                      }
                    ],
                    "heatmapgl": [
                      {
                        "colorbar": {
                          "outlinewidth": 0,
                          "ticks": ""
                        },
                        "colorscale": [
                          [
                            0,
                            "#0d0887"
                          ],
                          [
                            0.1111111111111111,
                            "#46039f"
                          ],
                          [
                            0.2222222222222222,
                            "#7201a8"
                          ],
                          [
                            0.3333333333333333,
                            "#9c179e"
                          ],
                          [
                            0.4444444444444444,
                            "#bd3786"
                          ],
                          [
                            0.5555555555555556,
                            "#d8576b"
                          ],
                          [
                            0.6666666666666666,
                            "#ed7953"
                          ],
                          [
                            0.7777777777777778,
                            "#fb9f3a"
                          ],
                          [
                            0.8888888888888888,
                            "#fdca26"
                          ],
                          [
                            1,
                            "#f0f921"
                          ]
                        ],
                        "type": "heatmapgl"
                      }
                    ],
                    "histogram": [
                      {
                        "marker": {
                          "pattern": {
                            "fillmode": "overlay",
                            "size": 10,
                            "solidity": 0.2
                          }
                        },
                        "type": "histogram"
                      }
                    ],
                    "histogram2d": [
                      {
                        "colorbar": {
                          "outlinewidth": 0,
                          "ticks": ""
                        },
                        "colorscale": [
                          [
                            0,
                            "#0d0887"
                          ],
                          [
                            0.1111111111111111,
                            "#46039f"
                          ],
                          [
                            0.2222222222222222,
                            "#7201a8"
                          ],
                          [
                            0.3333333333333333,
                            "#9c179e"
                          ],
                          [
                            0.4444444444444444,
                            "#bd3786"
                          ],
                          [
                            0.5555555555555556,
                            "#d8576b"
                          ],
                          [
                            0.6666666666666666,
                            "#ed7953"
                          ],
                          [
                            0.7777777777777778,
                            "#fb9f3a"
                          ],
                          [
                            0.8888888888888888,
                            "#fdca26"
                          ],
                          [
                            1,
                            "#f0f921"
                          ]
                        ],
                        "type": "histogram2d"
                      }
                    ],
                    "histogram2dcontour": [
                      {
                        "colorbar": {
                          "outlinewidth": 0,
                          "ticks": ""
                        },
                        "colorscale": [
                          [
                            0,
                            "#0d0887"
                          ],
                          [
                            0.1111111111111111,
                            "#46039f"
                          ],
                          [
                            0.2222222222222222,
                            "#7201a8"
                          ],
                          [
                            0.3333333333333333,
                            "#9c179e"
                          ],
                          [
                            0.4444444444444444,
                            "#bd3786"
                          ],
                          [
                            0.5555555555555556,
                            "#d8576b"
                          ],
                          [
                            0.6666666666666666,
                            "#ed7953"
                          ],
                          [
                            0.7777777777777778,
                            "#fb9f3a"
                          ],
                          [
                            0.8888888888888888,
                            "#fdca26"
                          ],
                          [
                            1,
                            "#f0f921"
                          ]
                        ],
                        "type": "histogram2dcontour"
                      }
                    ],
                    "mesh3d": [
                      {
                        "colorbar": {
                          "outlinewidth": 0,
                          "ticks": ""
                        },
                        "type": "mesh3d"
                      }
                    ],
                    "parcoords": [
                      {
                        "line": {
                          "colorbar": {
                            "outlinewidth": 0,
                            "ticks": ""
                          }
                        },
                        "type": "parcoords"
                      }
                    ],
                    "pie": [
                      {
                        "automargin": true,
                        "type": "pie"
                      }
                    ],
                    "scatter": [
                      {
                        "fillpattern": {
                          "fillmode": "overlay",
                          "size": 10,
                          "solidity": 0.2
                        },
                        "type": "scatter"
                      }
                    ],
                    "scatter3d": [
                      {
                        "line": {
                          "colorbar": {
                            "outlinewidth": 0,
                            "ticks": ""
                          }
                        },
                        "marker": {
                          "colorbar": {
                            "outlinewidth": 0,
                            "ticks": ""
                          }
                        },
                        "type": "scatter3d"
                      }
                    ],
                    "scattercarpet": [
                      {
                        "marker": {
                          "colorbar": {
                            "outlinewidth": 0,
                            "ticks": ""
                          }
                        },
                        "type": "scattercarpet"
                      }
                    ],
                    "scattergeo": [
                      {
                        "marker": {
                          "colorbar": {
                            "outlinewidth": 0,
                            "ticks": ""
                          }
                        },
                        "type": "scattergeo"
                      }
                    ],
                    "scattergl": [
                      {
                        "marker": {
                          "colorbar": {
                            "outlinewidth": 0,
                            "ticks": ""
                          }
                        },
                        "type": "scattergl"
                      }
                    ],
                    "scattermapbox": [
                      {
                        "marker": {
                          "colorbar": {
                            "outlinewidth": 0,
                            "ticks": ""
                          }
                        },
                        "type": "scattermapbox"
                      }
                    ],
                    "scatterpolar": [
                      {
                        "marker": {
                          "colorbar": {
                            "outlinewidth": 0,
                            "ticks": ""
                          }
                        },
                        "type": "scatterpolar"
                      }
                    ],
                    "scatterpolargl": [
                      {
                        "marker": {
                          "colorbar": {
                            "outlinewidth": 0,
                            "ticks": ""
                          }
                        },
                        "type": "scatterpolargl"
                      }
                    ],
                    "scatterternary": [
                      {
                        "marker": {
                          "colorbar": {
                            "outlinewidth": 0,
                            "ticks": ""
                          }
                        },
                        "type": "scatterternary"
                      }
                    ],
                    "surface": [
                      {
                        "colorbar": {
                          "outlinewidth": 0,
                          "ticks": ""
                        },
                        "colorscale": [
                          [
                            0,
                            "#0d0887"
                          ],
                          [
                            0.1111111111111111,
                            "#46039f"
                          ],
                          [
                            0.2222222222222222,
                            "#7201a8"
                          ],
                          [
                            0.3333333333333333,
                            "#9c179e"
                          ],
                          [
                            0.4444444444444444,
                            "#bd3786"
                          ],
                          [
                            0.5555555555555556,
                            "#d8576b"
                          ],
                          [
                            0.6666666666666666,
                            "#ed7953"
                          ],
                          [
                            0.7777777777777778,
                            "#fb9f3a"
                          ],
                          [
                            0.8888888888888888,
                            "#fdca26"
                          ],
                          [
                            1,
                            "#f0f921"
                          ]
                        ],
                        "type": "surface"
                      }
                    ],
                    "table": [
                      {
                        "cells": {
                          "fill": {
                            "color": "#EBF0F8"
                          },
                          "line": {
                            "color": "white"
                          }
                        },
                        "header": {
                          "fill": {
                            "color": "#C8D4E3"
                          },
                          "line": {
                            "color": "white"
                          }
                        },
                        "type": "table"
                      }
                    ]
                  },
                  "layout": {
                    "annotationdefaults": {
                      "arrowcolor": "#2a3f5f",
                      "arrowhead": 0,
                      "arrowwidth": 1
                    },
                    "autotypenumbers": "strict",
                    "coloraxis": {
                      "colorbar": {
                        "outlinewidth": 0,
                        "ticks": ""
                      }
                    },
                    "colorscale": {
                      "diverging": [
                        [
                          0,
                          "#8e0152"
                        ],
                        [
                          0.1,
                          "#c51b7d"
                        ],
                        [
                          0.2,
                          "#de77ae"
                        ],
                        [
                          0.3,
                          "#f1b6da"
                        ],
                        [
                          0.4,
                          "#fde0ef"
                        ],
                        [
                          0.5,
                          "#f7f7f7"
                        ],
                        [
                          0.6,
                          "#e6f5d0"
                        ],
                        [
                          0.7,
                          "#b8e186"
                        ],
                        [
                          0.8,
                          "#7fbc41"
                        ],
                        [
                          0.9,
                          "#4d9221"
                        ],
                        [
                          1,
                          "#276419"
                        ]
                      ],
                      "sequential": [
                        [
                          0,
                          "#0d0887"
                        ],
                        [
                          0.1111111111111111,
                          "#46039f"
                        ],
                        [
                          0.2222222222222222,
                          "#7201a8"
                        ],
                        [
                          0.3333333333333333,
                          "#9c179e"
                        ],
                        [
                          0.4444444444444444,
                          "#bd3786"
                        ],
                        [
                          0.5555555555555556,
                          "#d8576b"
                        ],
                        [
                          0.6666666666666666,
                          "#ed7953"
                        ],
                        [
                          0.7777777777777778,
                          "#fb9f3a"
                        ],
                        [
                          0.8888888888888888,
                          "#fdca26"
                        ],
                        [
                          1,
                          "#f0f921"
                        ]
                      ],
                      "sequentialminus": [
                        [
                          0,
                          "#0d0887"
                        ],
                        [
                          0.1111111111111111,
                          "#46039f"
                        ],
                        [
                          0.2222222222222222,
                          "#7201a8"
                        ],
                        [
                          0.3333333333333333,
                          "#9c179e"
                        ],
                        [
                          0.4444444444444444,
                          "#bd3786"
                        ],
                        [
                          0.5555555555555556,
                          "#d8576b"
                        ],
                        [
                          0.6666666666666666,
                          "#ed7953"
                        ],
                        [
                          0.7777777777777778,
                          "#fb9f3a"
                        ],
                        [
                          0.8888888888888888,
                          "#fdca26"
                        ],
                        [
                          1,
                          "#f0f921"
                        ]
                      ]
                    },
                    "colorway": [
                      "#636efa",
                      "#EF553B",
                      "#00cc96",
                      "#ab63fa",
                      "#FFA15A",
                      "#19d3f3",
                      "#FF6692",
                      "#B6E880",
                      "#FF97FF",
                      "#FECB52"
                    ],
                    "font": {
                      "color": "#2a3f5f"
                    },
                    "geo": {
                      "bgcolor": "white",
                      "lakecolor": "white",
                      "landcolor": "#E5ECF6",
                      "showlakes": true,
                      "showland": true,
                      "subunitcolor": "white"
                    },
                    "hoverlabel": {
                      "align": "left"
                    },
                    "hovermode": "closest",
                    "mapbox": {
                      "style": "light"
                    },
                    "paper_bgcolor": "white",
                    "plot_bgcolor": "#E5ECF6",
                    "polar": {
                      "angularaxis": {
                        "gridcolor": "white",
                        "linecolor": "white",
                        "ticks": ""
                      },
                      "bgcolor": "#E5ECF6",
                      "radialaxis": {
                        "gridcolor": "white",
                        "linecolor": "white",
                        "ticks": ""
                      }
                    },
                    "scene": {
                      "xaxis": {
                        "backgroundcolor": "#E5ECF6",
                        "gridcolor": "white",
                        "gridwidth": 2,
                        "linecolor": "white",
                        "showbackground": true,
                        "ticks": "",
                        "zerolinecolor": "white"
                      },
                      "yaxis": {
                        "backgroundcolor": "#E5ECF6",
                        "gridcolor": "white",
                        "gridwidth": 2,
                        "linecolor": "white",
                        "showbackground": true,
                        "ticks": "",
                        "zerolinecolor": "white"
                      },
                      "zaxis": {
                        "backgroundcolor": "#E5ECF6",
                        "gridcolor": "white",
                        "gridwidth": 2,
                        "linecolor": "white",
                        "showbackground": true,
                        "ticks": "",
                        "zerolinecolor": "white"
                      }
                    },
                    "shapedefaults": {
                      "line": {
                        "color": "#2a3f5f"
                      }
                    },
                    "ternary": {
                      "aaxis": {
                        "gridcolor": "white",
                        "linecolor": "white",
                        "ticks": ""
                      },
                      "baxis": {
                        "gridcolor": "white",
                        "linecolor": "white",
                        "ticks": ""
                      },
                      "bgcolor": "#E5ECF6",
                      "caxis": {
                        "gridcolor": "white",
                        "linecolor": "white",
                        "ticks": ""
                      }
                    },
                    "title": {
                      "x": 0.05
                    },
                    "xaxis": {
                      "automargin": true,
                      "gridcolor": "white",
                      "linecolor": "white",
                      "ticks": "",
                      "title": {
                        "standoff": 15
                      },
                      "zerolinecolor": "white",
                      "zerolinewidth": 2
                    },
                    "yaxis": {
                      "automargin": true,
                      "gridcolor": "white",
                      "linecolor": "white",
                      "ticks": "",
                      "title": {
                        "standoff": 15
                      },
                      "zerolinecolor": "white",
                      "zerolinewidth": 2
                    }
                  }
                }
              }
            }
          },
          "metadata": {},
          "output_type": "display_data"
        }
      ],
      "source": [
        "# we use plotly go to get a interactive 3D_plot\n",
        "import plotly.graph_objects as go\n",
        "\n",
        "# create a 3D plot of our data as we did earlier\n",
        "fig = go.Figure(data=go.Scatter3d(\n",
        "    x=X[:, 0],\n",
        "    y=X[:, 1],\n",
        "    z=y,\n",
        "    mode='markers',\n",
        "))\n",
        "\n",
        "# create the 3D plot of the regression model on that plot\n",
        "fig.add_trace(go.Surface(\n",
        "    x=x1_range,\n",
        "    y=x2_range,\n",
        "    z=y_pred_grid,\n",
        "    colorscale='Viridis',\n",
        "    opacity=0.8\n",
        "))\n",
        "\n",
        "fig.show()"
      ]
    },
    {
      "cell_type": "code",
      "execution_count": 11,
      "metadata": {
        "colab": {
          "base_uri": "https://localhost:8080/"
        },
        "id": "f2pRJj0veqH-",
        "outputId": "95e177cc-96b5-405f-c16e-38a8d7f857f3"
      },
      "outputs": [
        {
          "data": {
            "text/plain": [
              "array([-3.59669481])"
            ]
          },
          "execution_count": 11,
          "metadata": {},
          "output_type": "execute_result"
        }
      ],
      "source": [
        "# make predictions of new data\n",
        "new_data = [[0.65, -0.9]]\n",
        "model.predict(new_data)"
      ]
    },
    {
      "cell_type": "code",
      "execution_count": null,
      "metadata": {},
      "outputs": [],
      "source": []
    }
  ],
  "metadata": {
    "colab": {
      "provenance": []
    },
    "kernelspec": {
      "display_name": "Python 3",
      "name": "python3"
    },
    "language_info": {
      "codemirror_mode": {
        "name": "ipython",
        "version": 3
      },
      "file_extension": ".py",
      "mimetype": "text/x-python",
      "name": "python",
      "nbconvert_exporter": "python",
      "pygments_lexer": "ipython3",
      "version": "3.9.13"
    }
  },
  "nbformat": 4,
  "nbformat_minor": 0
}
